{
 "cells": [
  {
   "cell_type": "markdown",
   "metadata": {},
   "source": [
    "# WeatherPy\n",
    "----\n",
    "\n",
    "#### Note\n",
    "* Instructions have been included for each segment. You do not have to follow them exactly, but they are included to help you think through the steps."
   ]
  },
  {
   "cell_type": "code",
   "execution_count": 1,
   "metadata": {
    "scrolled": true
   },
   "outputs": [],
   "source": [
    "# Dependencies and Setup\n",
    "import matplotlib.pyplot as plt\n",
    "import requests\n",
    "import scipy.stats as st\n",
    "import pandas as pd\n",
    "from citipy import citipy\n",
    "import numpy as np\n",
    "from pprint import pprint\n",
    "from scipy.stats import linregress\n",
    "\n",
    "# Import API key\n",
    "from api_keys import weather_api_key"
   ]
  },
  {
   "cell_type": "markdown",
   "metadata": {},
   "source": [
    "## Generate Cities List"
   ]
  },
  {
   "cell_type": "code",
   "execution_count": 2,
   "metadata": {},
   "outputs": [],
   "source": [
    "# Number of Cities to generate\n",
    "no_cities = 550\n",
    "\n",
    "# Create empty lists for storing cities and country codes\n",
    "cities = []\n",
    "country_codes = []\n",
    "\n",
    "for x in range(no_cities):\n",
    "    lat = np.random.uniform(-90, 90)\n",
    "    lng = np.random.uniform(-180, 180)\n",
    "    city = citipy.nearest_city(lat, lng)\n",
    "    \n",
    "    # Generate more geo lat and Long values for new cities \n",
    "    while city.city_name in cities:\n",
    "        lat = np.random.uniform(-90, 90)\n",
    "        lng = np.random.uniform(-180, 180)\n",
    "        city = citipy.nearest_city(lat, lng)\n",
    "    \n",
    "    # Append data to our lists\n",
    "    cities.append(city.city_name)\n",
    "    country_codes.append(city.country_code)\n",
    "    \n",
    "    #Store country codes in Uppercase \n",
    "    country_codes = [x.upper() for x in country_codes]"
   ]
  },
  {
   "cell_type": "markdown",
   "metadata": {},
   "source": [
    "### Perform API Calls\n",
    "* Perform a weather check on each city using a series of successive API calls.\n",
    "* Include a print log of each city as it'sbeing processed (with the city number and city name).\n"
   ]
  },
  {
   "cell_type": "code",
   "execution_count": 3,
   "metadata": {
    "scrolled": false
   },
   "outputs": [
    {
     "name": "stdout",
     "output_type": "stream",
     "text": [
      "Processing record 1 of Set 1 | rawannawi\n",
      "Processing record 2 of Set 1 | byron bay\n",
      "Processing record 3 of Set 1 | taolanaro\n",
      "Processing record 4 of Set 1 | puerto ayora\n",
      "Processing record 5 of Set 1 | bambous virieux\n",
      "Processing record 6 of Set 1 | san cristobal\n",
      "Processing record 7 of Set 1 | mehamn\n",
      "Processing record 8 of Set 1 | tiksi\n",
      "Processing record 9 of Set 1 | belushya guba\n",
      "Processing record 10 of Set 1 | castro\n",
      "Processing record 11 of Set 1 | tulum\n",
      "Processing record 12 of Set 1 | raudeberg\n",
      "Processing record 13 of Set 1 | bethel\n",
      "Processing record 14 of Set 1 | ushuaia\n",
      "Processing record 15 of Set 1 | longyearbyen\n",
      "Processing record 16 of Set 1 | waipawa\n",
      "Processing record 17 of Set 1 | beringovskiy\n",
      "Processing record 18 of Set 1 | havoysund\n",
      "Processing record 19 of Set 1 | busselton\n",
      "Processing record 20 of Set 1 | cherskiy\n",
      "Processing record 21 of Set 1 | jawhar\n",
      "Processing record 22 of Set 1 | kununurra\n",
      "Processing record 23 of Set 1 | rikitea\n",
      "Processing record 24 of Set 1 | mataura\n",
      "Processing record 25 of Set 1 | kitimat\n",
      "Processing record 26 of Set 1 | cerritos\n",
      "Processing record 27 of Set 1 | georgetown\n",
      "Processing record 28 of Set 1 | vanimo\n",
      "Processing record 29 of Set 1 | albany\n",
      "Processing record 30 of Set 1 | mar del plata\n",
      "Processing record 31 of Set 1 | baneasa\n",
      "Processing record 32 of Set 1 | hobart\n",
      "Processing record 33 of Set 1 | nizhneangarsk\n",
      "Processing record 34 of Set 1 | upernavik\n",
      "Processing record 35 of Set 1 | pevek\n",
      "Processing record 36 of Set 1 | karaul\n",
      "Processing record 37 of Set 1 | bilma\n",
      "Processing record 38 of Set 1 | plettenberg bay\n",
      "Processing record 39 of Set 1 | kavieng\n",
      "Processing record 40 of Set 1 | okha\n",
      "Processing record 41 of Set 1 | barrow\n",
      "Processing record 42 of Set 1 | constitucion\n",
      "Processing record 43 of Set 1 | grand gaube\n",
      "Processing record 44 of Set 1 | ribeira grande\n",
      "Processing record 45 of Set 1 | grand river south east\n",
      "Processing record 46 of Set 1 | lubao\n",
      "Processing record 47 of Set 1 | butaritari\n",
      "Processing record 48 of Set 1 | attawapiskat\n",
      "Processing record 49 of Set 1 | katsuura\n",
      "Processing record 50 of Set 1 | tsihombe\n",
      "Processing record 51 of Set 1 | atuona\n",
      "Processing record 52 of Set 1 | pakxan\n",
      "Processing record 53 of Set 1 | vaini\n",
      "Processing record 54 of Set 1 | kalemie\n",
      "Processing record 55 of Set 1 | sindou\n",
      "Processing record 56 of Set 1 | gualeguay\n",
      "Processing record 57 of Set 1 | yellowknife\n",
      "Processing record 58 of Set 1 | cesis\n",
      "Processing record 59 of Set 1 | kruisfontein\n",
      "Processing record 60 of Set 1 | hasaki\n",
      "Processing record 61 of Set 1 | kuching\n",
      "Processing record 62 of Set 1 | paamiut\n",
      "Processing record 63 of Set 1 | saskylakh\n",
      "Processing record 64 of Set 1 | bluff\n",
      "Processing record 65 of Set 1 | mackay\n",
      "Processing record 66 of Set 1 | bowen\n",
      "Processing record 67 of Set 1 | norman wells\n",
      "Processing record 68 of Set 1 | ketchikan\n",
      "Processing record 69 of Set 1 | airai\n",
      "Processing record 70 of Set 1 | kisesa\n",
      "Processing record 71 of Set 1 | klaksvik\n",
      "Processing record 72 of Set 1 | mange\n",
      "Processing record 73 of Set 1 | kavarna\n",
      "Processing record 74 of Set 1 | tornio\n",
      "Processing record 75 of Set 1 | hirara\n",
      "Processing record 76 of Set 1 | provideniya\n",
      "Processing record 77 of Set 1 | sept-iles\n",
      "Processing record 78 of Set 1 | rovinj\n",
      "Processing record 79 of Set 1 | matagami\n",
      "Processing record 80 of Set 1 | punta arenas\n",
      "Processing record 81 of Set 1 | bengkulu\n",
      "Processing record 82 of Set 1 | nsunga\n",
      "Processing record 83 of Set 1 | praia\n",
      "Processing record 84 of Set 1 | victoria\n",
      "Processing record 85 of Set 1 | yagodnoye\n",
      "Processing record 86 of Set 1 | barentsburg\n",
      "Processing record 87 of Set 1 | ancud\n",
      "Processing record 88 of Set 1 | new norfolk\n",
      "Processing record 89 of Set 1 | whitehorse\n",
      "Processing record 90 of Set 1 | armacao dos buzios\n",
      "Processing record 91 of Set 1 | gravdal\n",
      "Processing record 92 of Set 1 | razole\n",
      "Processing record 93 of Set 1 | yar-sale\n",
      "Processing record 94 of Set 1 | nanakuli\n",
      "Processing record 95 of Set 1 | namatanai\n",
      "Processing record 96 of Set 1 | karratha\n",
      "Processing record 97 of Set 1 | cape town\n",
      "Processing record 98 of Set 1 | coxim\n",
      "Processing record 99 of Set 1 | thompson\n",
      "Processing record 100 of Set 1 | port alfred\n",
      "Processing record 101 of Set 1 | nara\n",
      "Processing record 102 of Set 1 | mukhtolovo\n",
      "Processing record 103 of Set 1 | camacha\n",
      "Processing record 104 of Set 1 | kapaa\n",
      "Processing record 105 of Set 1 | hami\n",
      "Processing record 106 of Set 1 | half moon bay\n",
      "Processing record 107 of Set 1 | aleksandrovskiy zavod\n",
      "Processing record 108 of Set 1 | illoqqortoormiut\n",
      "Processing record 109 of Set 1 | khatanga\n",
      "Processing record 110 of Set 1 | mahadday weyne\n",
      "Processing record 111 of Set 1 | rio gallegos\n",
      "Processing record 112 of Set 1 | san patricio\n",
      "Processing record 113 of Set 1 | adrar\n",
      "Processing record 114 of Set 1 | bud\n",
      "Processing record 115 of Set 1 | chuy\n",
      "Processing record 116 of Set 1 | hilo\n",
      "Processing record 117 of Set 1 | talnakh\n",
      "Processing record 118 of Set 1 | altay\n",
      "Processing record 119 of Set 1 | husavik\n",
      "Processing record 120 of Set 1 | avarua\n",
      "Processing record 121 of Set 1 | nome\n",
      "Processing record 122 of Set 1 | mehran\n",
      "Processing record 123 of Set 1 | bredasdorp\n",
      "Processing record 124 of Set 1 | kinshasa\n",
      "Processing record 125 of Set 1 | mys shmidta\n",
      "Processing record 126 of Set 1 | los llanos de aridane\n",
      "Processing record 127 of Set 1 | mercedes\n",
      "Processing record 128 of Set 1 | lebu\n",
      "Processing record 129 of Set 1 | cabinda\n",
      "Processing record 130 of Set 1 | nikolskoye\n",
      "Processing record 131 of Set 1 | dicabisagan\n",
      "Processing record 132 of Set 1 | buchanan\n",
      "Processing record 133 of Set 1 | tasiilaq\n",
      "Processing record 134 of Set 1 | sorland\n",
      "Processing record 135 of Set 1 | marovoay\n",
      "Processing record 136 of Set 1 | aksu\n",
      "Processing record 137 of Set 1 | ajdabiya\n",
      "Processing record 138 of Set 1 | east london\n",
      "Processing record 139 of Set 1 | ekhabi\n",
      "Processing record 140 of Set 1 | lata\n",
      "Processing record 141 of Set 1 | qiyang\n",
      "Processing record 142 of Set 1 | tsaratanana\n",
      "Processing record 143 of Set 1 | camana\n",
      "Processing record 144 of Set 1 | mahebourg\n",
      "Processing record 145 of Set 1 | tumannyy\n",
      "Processing record 146 of Set 1 | puerto madryn\n",
      "Processing record 147 of Set 1 | cary\n",
      "Processing record 148 of Set 1 | moate\n",
      "Processing record 149 of Set 1 | dukat\n",
      "Processing record 150 of Set 1 | dalby\n",
      "Processing record 151 of Set 1 | laytown\n",
      "Processing record 152 of Set 1 | pauleni-ciuc\n",
      "Processing record 153 of Set 1 | hermanus\n",
      "Processing record 154 of Set 1 | codrington\n",
      "Processing record 155 of Set 1 | vila velha\n",
      "Processing record 156 of Set 1 | nizhneyansk\n",
      "Processing record 157 of Set 1 | acapulco\n",
      "Processing record 158 of Set 1 | labuhan\n",
      "Processing record 159 of Set 1 | lar\n",
      "Processing record 160 of Set 1 | bokoro\n",
      "Processing record 161 of Set 1 | churachandpur\n",
      "Processing record 162 of Set 1 | necochea\n",
      "Processing record 163 of Set 1 | nguiu\n",
      "Processing record 164 of Set 1 | qaanaaq\n",
      "Processing record 165 of Set 1 | te anau\n",
      "Processing record 166 of Set 1 | finschhafen\n",
      "Processing record 167 of Set 1 | kandrian\n",
      "Processing record 168 of Set 1 | carnarvon\n",
      "Processing record 169 of Set 1 | caravelas\n",
      "Processing record 170 of Set 1 | severo-kurilsk\n",
      "Processing record 171 of Set 1 | teya\n",
      "Processing record 172 of Set 1 | kodiak\n",
      "Processing record 173 of Set 1 | senneterre\n",
      "Processing record 174 of Set 1 | geraldton\n",
      "Processing record 175 of Set 1 | hithadhoo\n",
      "Processing record 176 of Set 1 | palabuhanratu\n",
      "Processing record 177 of Set 1 | bababe\n",
      "Processing record 178 of Set 1 | ulaangom\n",
      "Processing record 179 of Set 1 | kieta\n",
      "Processing record 180 of Set 1 | kalmunai\n",
      "Processing record 181 of Set 1 | marand\n",
      "Processing record 182 of Set 1 | aklavik\n",
      "Processing record 183 of Set 1 | port elizabeth\n",
      "Processing record 184 of Set 1 | caconda\n",
      "Processing record 185 of Set 1 | esperance\n",
      "Processing record 186 of Set 1 | dikson\n",
      "Processing record 187 of Set 1 | port blair\n",
      "Processing record 188 of Set 1 | turinskaya sloboda\n",
      "Processing record 189 of Set 1 | nizhnevartovsk\n",
      "Processing record 190 of Set 1 | vestmannaeyjar\n",
      "Processing record 191 of Set 1 | irbeyskoye\n",
      "Processing record 192 of Set 1 | kathmandu\n",
      "Processing record 193 of Set 1 | evensk\n",
      "Processing record 194 of Set 1 | hondo\n",
      "Processing record 195 of Set 1 | jamestown\n",
      "Processing record 196 of Set 1 | ugoofaaru\n"
     ]
    },
    {
     "name": "stdout",
     "output_type": "stream",
     "text": [
      "Processing record 197 of Set 1 | lecce\n",
      "Processing record 198 of Set 1 | qui nhon\n",
      "Processing record 199 of Set 1 | new baltimore\n",
      "Processing record 200 of Set 1 | chokurdakh\n",
      "Processing record 201 of Set 1 | pangnirtung\n",
      "Processing record 202 of Set 1 | quatre cocos\n",
      "Processing record 203 of Set 1 | sharjah\n",
      "Processing record 204 of Set 1 | jalingo\n",
      "Processing record 205 of Set 1 | beamsville\n",
      "Processing record 206 of Set 1 | sitka\n",
      "Processing record 207 of Set 1 | panjab\n",
      "Processing record 208 of Set 1 | port hedland\n",
      "Processing record 209 of Set 1 | shorapur\n",
      "Processing record 210 of Set 1 | mahibadhoo\n",
      "Processing record 211 of Set 1 | abu samrah\n",
      "Processing record 212 of Set 1 | isangel\n",
      "Processing record 213 of Set 1 | tuatapere\n",
      "Processing record 214 of Set 1 | kribi\n",
      "Processing record 215 of Set 1 | broome\n",
      "Processing record 216 of Set 1 | saint-augustin\n",
      "Processing record 217 of Set 1 | arraial do cabo\n",
      "Processing record 218 of Set 1 | moose factory\n",
      "Processing record 219 of Set 1 | talara\n",
      "Processing record 220 of Set 1 | mount isa\n",
      "Processing record 221 of Set 1 | araguaina\n",
      "Processing record 222 of Set 1 | makakilo city\n",
      "Processing record 223 of Set 1 | olinda\n",
      "Processing record 224 of Set 1 | taltal\n",
      "Processing record 225 of Set 1 | saint george\n",
      "Processing record 226 of Set 1 | shangrao\n",
      "Processing record 227 of Set 1 | nioro\n",
      "Processing record 228 of Set 1 | ouallam\n",
      "Processing record 229 of Set 1 | george\n",
      "Processing record 230 of Set 1 | vysokogornyy\n",
      "Processing record 231 of Set 1 | vila\n",
      "Processing record 232 of Set 1 | skalistyy\n",
      "Processing record 233 of Set 1 | ixtapa\n",
      "Processing record 234 of Set 1 | naze\n",
      "Processing record 235 of Set 1 | barinas\n",
      "Processing record 236 of Set 1 | krasnokamensk\n",
      "Processing record 237 of Set 1 | jetafe\n",
      "Processing record 238 of Set 1 | ewa beach\n",
      "Processing record 239 of Set 1 | bolungarvik\n",
      "Processing record 240 of Set 1 | kingaroy\n",
      "Processing record 241 of Set 1 | iqaluit\n",
      "Processing record 242 of Set 1 | ust-kulom\n",
      "Processing record 243 of Set 1 | mori\n",
      "Processing record 244 of Set 1 | tessalit\n",
      "Processing record 245 of Set 1 | tara\n",
      "Processing record 246 of Set 1 | aldan\n",
      "Processing record 247 of Set 1 | narsaq\n",
      "Processing record 248 of Set 1 | jalu\n",
      "Processing record 249 of Set 1 | matamoros\n",
      "Processing record 250 of Set 1 | samarai\n",
      "Processing record 251 of Set 1 | la quinta\n",
      "Processing record 252 of Set 1 | sao filipe\n",
      "Processing record 253 of Set 1 | bintulu\n",
      "Processing record 254 of Set 1 | sao joao da barra\n",
      "Processing record 255 of Set 1 | port hardy\n",
      "Processing record 256 of Set 1 | dingle\n",
      "Processing record 257 of Set 1 | hailey\n",
      "Processing record 258 of Set 1 | kendari\n",
      "Processing record 259 of Set 1 | la union\n",
      "Processing record 260 of Set 1 | mitu\n",
      "Processing record 261 of Set 1 | solovetskiy\n",
      "Processing record 262 of Set 1 | oistins\n",
      "Processing record 263 of Set 1 | ayia galini\n",
      "Processing record 264 of Set 1 | vardo\n",
      "Processing record 265 of Set 1 | maniitsoq\n",
      "Processing record 266 of Set 1 | la palma\n",
      "Processing record 267 of Set 1 | northam\n",
      "Processing record 268 of Set 1 | amderma\n",
      "Processing record 269 of Set 1 | cidreira\n",
      "Processing record 270 of Set 1 | mineiros\n",
      "Processing record 271 of Set 1 | kaitangata\n",
      "Processing record 272 of Set 1 | batemans bay\n",
      "Processing record 273 of Set 1 | kita\n",
      "Processing record 274 of Set 1 | anadyr\n",
      "Processing record 275 of Set 1 | torbay\n",
      "Processing record 276 of Set 1 | matara\n",
      "Processing record 277 of Set 1 | vuktyl\n",
      "Processing record 278 of Set 1 | buri\n",
      "Processing record 279 of Set 1 | caledonia\n",
      "Processing record 280 of Set 1 | buala\n",
      "Processing record 281 of Set 1 | lethem\n",
      "Processing record 282 of Set 1 | yumen\n",
      "Processing record 283 of Set 1 | cabrera\n",
      "Processing record 284 of Set 1 | saint-philippe\n",
      "Processing record 285 of Set 1 | saint-pierre\n",
      "Processing record 286 of Set 1 | vallenar\n",
      "Processing record 287 of Set 1 | karamea\n",
      "Processing record 288 of Set 1 | prince rupert\n",
      "Processing record 289 of Set 1 | rapar\n",
      "Processing record 290 of Set 1 | ilulissat\n",
      "Processing record 291 of Set 1 | bulawayo\n",
      "Processing record 292 of Set 1 | ostrovnoy\n",
      "Processing record 293 of Set 1 | najran\n",
      "Processing record 294 of Set 1 | odweyne\n",
      "Processing record 295 of Set 1 | cabo san lucas\n",
      "Processing record 296 of Set 1 | mocuba\n",
      "Processing record 297 of Set 1 | palmer\n",
      "Processing record 298 of Set 1 | lompoc\n",
      "Processing record 299 of Set 1 | thinadhoo\n",
      "Processing record 300 of Set 1 | comodoro rivadavia\n",
      "Processing record 301 of Set 1 | kamenskoye\n",
      "Processing record 302 of Set 1 | fairbanks\n",
      "Processing record 303 of Set 1 | alofi\n",
      "Processing record 304 of Set 1 | calvinia\n",
      "Processing record 305 of Set 1 | ahipara\n",
      "Processing record 306 of Set 1 | san lazaro\n",
      "Processing record 307 of Set 1 | aktau\n",
      "Processing record 308 of Set 1 | key biscayne\n",
      "Processing record 309 of Set 1 | san carlos de bariloche\n",
      "Processing record 310 of Set 1 | sao francisco\n",
      "Processing record 311 of Set 1 | itarema\n",
      "Processing record 312 of Set 1 | arawa\n",
      "Processing record 313 of Set 1 | boende\n",
      "Processing record 314 of Set 1 | port lincoln\n",
      "Processing record 315 of Set 1 | cairns\n",
      "Processing record 316 of Set 1 | srednekolymsk\n",
      "Processing record 317 of Set 1 | mahina\n",
      "Processing record 318 of Set 1 | fukagawa\n",
      "Processing record 319 of Set 1 | rungata\n",
      "Processing record 320 of Set 1 | nebug\n",
      "Processing record 321 of Set 1 | cagsiay\n",
      "Processing record 322 of Set 1 | neiafu\n",
      "Processing record 323 of Set 1 | peikang\n",
      "Processing record 324 of Set 1 | manzanillo\n",
      "Processing record 325 of Set 1 | whitianga\n",
      "Processing record 326 of Set 1 | komsomolskiy\n",
      "Processing record 327 of Set 1 | hammerfest\n",
      "Processing record 328 of Set 1 | tuktoyaktuk\n",
      "Processing record 329 of Set 1 | nanortalik\n",
      "Processing record 330 of Set 1 | pacific grove\n",
      "Processing record 331 of Set 1 | boca do acre\n",
      "Processing record 332 of Set 1 | soe\n",
      "Processing record 333 of Set 1 | kismayo\n",
      "Processing record 334 of Set 1 | cumra\n",
      "Processing record 335 of Set 1 | carmen\n",
      "Processing record 336 of Set 1 | vicuna\n",
      "Processing record 337 of Set 1 | khandyga\n",
      "Processing record 338 of Set 1 | lyuban\n",
      "Processing record 339 of Set 1 | san jeronimo\n",
      "Processing record 340 of Set 1 | tiarei\n",
      "Processing record 341 of Set 1 | ornskoldsvik\n",
      "Processing record 342 of Set 1 | vila franca do campo\n",
      "Processing record 343 of Set 1 | jardim\n",
      "Processing record 344 of Set 1 | palembang\n",
      "Processing record 345 of Set 1 | pitimbu\n",
      "Processing record 346 of Set 1 | coquimbo\n",
      "Processing record 347 of Set 1 | umzimvubu\n",
      "Processing record 348 of Set 1 | sao luiz gonzaga\n",
      "Processing record 349 of Set 1 | vidim\n",
      "Processing record 350 of Set 1 | yirol\n",
      "Processing record 351 of Set 1 | mareeba\n",
      "Processing record 352 of Set 1 | almeirim\n",
      "Processing record 353 of Set 1 | champerico\n",
      "Processing record 354 of Set 1 | kahului\n",
      "Processing record 355 of Set 1 | kjollefjord\n",
      "Processing record 356 of Set 1 | vaitupu\n",
      "Processing record 357 of Set 1 | beaverlodge\n",
      "Processing record 358 of Set 1 | mogadouro\n",
      "Processing record 359 of Set 1 | milkovo\n",
      "Processing record 360 of Set 1 | brawley\n",
      "Processing record 361 of Set 1 | nuuk\n",
      "Processing record 362 of Set 1 | bobo dioulasso\n",
      "Processing record 363 of Set 1 | henties bay\n",
      "Processing record 364 of Set 1 | santona\n",
      "Processing record 365 of Set 1 | iwanai\n",
      "Processing record 366 of Set 1 | liverpool\n",
      "Processing record 367 of Set 1 | okhotsk\n",
      "Processing record 368 of Set 1 | saint-louis\n",
      "Processing record 369 of Set 1 | cayenne\n",
      "Processing record 370 of Set 1 | namibe\n",
      "Processing record 371 of Set 1 | mnogovershinnyy\n",
      "Processing record 372 of Set 1 | souillac\n",
      "Processing record 373 of Set 1 | loukhi\n",
      "Processing record 374 of Set 1 | biryusinsk\n",
      "Processing record 375 of Set 1 | morgan city\n",
      "Processing record 376 of Set 1 | felidhoo\n",
      "Processing record 377 of Set 1 | itacare\n",
      "Processing record 378 of Set 1 | kande\n",
      "Processing record 379 of Set 1 | lazaro cardenas\n",
      "Processing record 380 of Set 1 | surt\n",
      "Processing record 381 of Set 1 | whitley bay\n",
      "Processing record 382 of Set 1 | korla\n",
      "Processing record 383 of Set 1 | uniara\n",
      "Processing record 384 of Set 1 | hamilton\n",
      "Processing record 385 of Set 1 | chagda\n",
      "Processing record 386 of Set 1 | west wendover\n",
      "Processing record 387 of Set 1 | high level\n",
      "Processing record 388 of Set 1 | buraydah\n",
      "Processing record 389 of Set 1 | ruidoso\n",
      "Processing record 390 of Set 1 | ambon\n"
     ]
    },
    {
     "name": "stdout",
     "output_type": "stream",
     "text": [
      "Processing record 391 of Set 1 | belyy yar\n",
      "Processing record 392 of Set 1 | araouane\n",
      "Processing record 393 of Set 1 | bama\n",
      "Processing record 394 of Set 1 | sentyabrskiy\n",
      "Processing record 395 of Set 1 | colares\n",
      "Processing record 396 of Set 1 | saldanha\n",
      "Processing record 397 of Set 1 | male\n",
      "Processing record 398 of Set 1 | honiara\n",
      "Processing record 399 of Set 1 | talcahuano\n",
      "Processing record 400 of Set 1 | faanui\n",
      "Processing record 401 of Set 1 | gudur\n",
      "Processing record 402 of Set 1 | batsfjord\n",
      "Processing record 403 of Set 1 | burnie\n",
      "Processing record 404 of Set 1 | kousseri\n",
      "Processing record 405 of Set 1 | zhanaozen\n",
      "Processing record 406 of Set 1 | bolshoye sorokino\n",
      "Processing record 407 of Set 1 | rehoboth\n",
      "Processing record 408 of Set 1 | sinnamary\n",
      "Processing record 409 of Set 1 | grand centre\n",
      "Processing record 410 of Set 1 | gobabis\n",
      "Processing record 411 of Set 1 | tekirdag\n",
      "Processing record 412 of Set 1 | muravlenko\n",
      "Processing record 413 of Set 1 | huilong\n",
      "Processing record 414 of Set 1 | weihai\n",
      "Processing record 415 of Set 1 | santa eulalia del rio\n",
      "Processing record 416 of Set 1 | clyde river\n",
      "Processing record 417 of Set 1 | dayton\n",
      "Processing record 418 of Set 1 | broken hill\n",
      "Processing record 419 of Set 1 | fortuna\n",
      "Processing record 420 of Set 1 | shelburne\n",
      "Processing record 421 of Set 1 | erenhot\n",
      "Processing record 422 of Set 1 | taywarah\n",
      "Processing record 423 of Set 1 | yaan\n",
      "Processing record 424 of Set 1 | manhattan\n",
      "Processing record 425 of Set 1 | alihe\n",
      "Processing record 426 of Set 1 | nyurba\n",
      "Processing record 427 of Set 1 | seoul\n",
      "Processing record 428 of Set 1 | russell\n",
      "Processing record 429 of Set 1 | chapais\n",
      "Processing record 430 of Set 1 | yakovlevka\n",
      "Processing record 431 of Set 1 | sal rei\n",
      "Processing record 432 of Set 1 | shumskiy\n",
      "Processing record 433 of Set 1 | littleton\n",
      "Processing record 434 of Set 1 | taguatinga\n",
      "Processing record 435 of Set 1 | cumaribo\n",
      "Processing record 436 of Set 1 | san miguel el alto\n",
      "Processing record 437 of Set 1 | khani\n",
      "Processing record 438 of Set 1 | ulladulla\n",
      "Processing record 439 of Set 1 | rodrigues alves\n",
      "Processing record 440 of Set 1 | yulara\n",
      "Processing record 441 of Set 1 | lasa\n",
      "Processing record 442 of Set 1 | leningradskiy\n",
      "Processing record 443 of Set 1 | livermore\n",
      "Processing record 444 of Set 1 | zhanatas\n",
      "Processing record 445 of Set 1 | ambilobe\n",
      "Processing record 446 of Set 1 | bairiki\n",
      "Processing record 447 of Set 1 | kutum\n",
      "Processing record 448 of Set 1 | monte azul\n",
      "Processing record 449 of Set 1 | salalah\n",
      "Processing record 450 of Set 1 | wanning\n",
      "Processing record 451 of Set 1 | biak\n",
      "Processing record 452 of Set 1 | arman\n",
      "Processing record 453 of Set 1 | svetlogorsk\n",
      "Processing record 454 of Set 1 | lavrentiya\n",
      "Processing record 455 of Set 1 | richards bay\n",
      "Processing record 456 of Set 1 | ovalle\n",
      "Processing record 457 of Set 1 | aripuana\n",
      "Processing record 458 of Set 1 | kulhudhuffushi\n",
      "Processing record 459 of Set 1 | candolim\n",
      "Processing record 460 of Set 1 | alcaudete\n",
      "Processing record 461 of Set 1 | makat\n",
      "Processing record 462 of Set 1 | gat\n",
      "Processing record 463 of Set 1 | chernyshevskiy\n",
      "Processing record 464 of Set 1 | north myrtle beach\n",
      "Processing record 465 of Set 1 | goderich\n",
      "Processing record 466 of Set 1 | llanes\n",
      "Processing record 467 of Set 1 | baykit\n",
      "Processing record 468 of Set 1 | khuzdar\n",
      "Processing record 469 of Set 1 | arua\n",
      "Processing record 470 of Set 1 | harlingen\n",
      "Processing record 471 of Set 1 | dir\n",
      "Processing record 472 of Set 1 | beloha\n",
      "Processing record 473 of Set 1 | andenes\n",
      "Processing record 474 of Set 1 | haines junction\n",
      "Processing record 475 of Set 1 | ferrol\n",
      "Processing record 476 of Set 1 | luderitz\n",
      "Processing record 477 of Set 1 | meulaboh\n",
      "Processing record 478 of Set 1 | pahrump\n",
      "Processing record 479 of Set 1 | bilibino\n",
      "Processing record 480 of Set 1 | pochutla\n",
      "Processing record 481 of Set 1 | dunedin\n",
      "Processing record 482 of Set 1 | cururupu\n",
      "Processing record 483 of Set 1 | guerrero negro\n",
      "Processing record 484 of Set 1 | seminole\n",
      "Processing record 485 of Set 1 | kilindoni\n",
      "Processing record 486 of Set 1 | atar\n",
      "Processing record 487 of Set 1 | petropavlovsk-kamchatskiy\n",
      "Processing record 488 of Set 1 | tidore\n",
      "Processing record 489 of Set 1 | beira\n",
      "Processing record 490 of Set 1 | rawson\n",
      "Processing record 491 of Set 1 | lagoa\n",
      "Processing record 492 of Set 1 | fare\n",
      "Processing record 493 of Set 1 | bambanglipuro\n",
      "Processing record 494 of Set 1 | metro\n",
      "Processing record 495 of Set 1 | gangotri\n",
      "Processing record 496 of Set 1 | zyryanka\n",
      "Processing record 497 of Set 1 | rahatgarh\n",
      "Processing record 498 of Set 1 | chifeng\n",
      "Processing record 499 of Set 1 | skjervoy\n",
      "Processing record 500 of Set 1 | sterling\n",
      "Processing record 501 of Set 1 | berlevag\n",
      "Processing record 502 of Set 1 | turbo\n",
      "Processing record 503 of Set 1 | labutta\n",
      "Processing record 504 of Set 1 | meadow lake\n",
      "Processing record 505 of Set 1 | dawei\n",
      "Processing record 506 of Set 1 | kindu\n",
      "Processing record 507 of Set 1 | inongo\n",
      "Processing record 508 of Set 1 | la paz\n",
      "Processing record 509 of Set 1 | innisfail\n",
      "Processing record 510 of Set 1 | kinsale\n",
      "Processing record 511 of Set 1 | bokspits\n",
      "Processing record 512 of Set 1 | krasnoslobodsk\n",
      "Processing record 513 of Set 1 | solnechnyy\n",
      "Processing record 514 of Set 1 | lat yao\n",
      "Processing record 515 of Set 1 | nishihara\n",
      "Processing record 516 of Set 1 | tura\n",
      "Processing record 517 of Set 1 | ekibastuz\n",
      "Processing record 518 of Set 1 | tandur\n",
      "Processing record 519 of Set 1 | gossas\n",
      "Processing record 520 of Set 1 | ponta do sol\n",
      "Processing record 521 of Set 1 | camabatela\n",
      "Processing record 522 of Set 1 | methoni\n",
      "Processing record 523 of Set 1 | shimoda\n",
      "Processing record 524 of Set 1 | fenoarivo atsinanana\n",
      "Processing record 525 of Set 1 | ayr\n",
      "Processing record 526 of Set 1 | garowe\n",
      "Processing record 527 of Set 1 | tigil\n",
      "Processing record 528 of Set 1 | zyryanskoye\n",
      "Processing record 529 of Set 1 | umred\n",
      "Processing record 530 of Set 1 | belmonte\n",
      "Processing record 531 of Set 1 | hobyo\n",
      "Processing record 532 of Set 1 | guadalupe y calvo\n",
      "Processing record 533 of Set 1 | bandarbeyla\n",
      "Processing record 534 of Set 1 | yashan\n",
      "Processing record 535 of Set 1 | hofn\n",
      "Processing record 536 of Set 1 | esfarayen\n",
      "Processing record 537 of Set 1 | grindavik\n",
      "Processing record 538 of Set 1 | naryan-mar\n",
      "Processing record 539 of Set 1 | bereda\n",
      "Processing record 540 of Set 1 | thongwa\n",
      "Processing record 541 of Set 1 | nabire\n",
      "Processing record 542 of Set 1 | santa ines\n",
      "Processing record 543 of Set 1 | kegayli\n",
      "Processing record 544 of Set 1 | luba\n",
      "Processing record 545 of Set 1 | vanderhoof\n",
      "Processing record 546 of Set 1 | thomaston\n",
      "Processing record 547 of Set 1 | ostashkov\n",
      "Processing record 548 of Set 1 | rosetta\n",
      "Processing record 549 of Set 1 | noshiro\n",
      "Processing record 550 of Set 1 | ingham\n",
      "--------------------------------------------\n",
      "Data Processing Complete\n",
      "--------------------------------------------\n"
     ]
    }
   ],
   "source": [
    "# Save config information.\n",
    "url = \"http://api.openweathermap.org/data/2.5/weather?\"\n",
    "units = \"Imperial\"\n",
    "\n",
    "# Build partial query URL\n",
    "query_url = f\"{url}appid={weather_api_key}&units={units}&q=\"\n",
    "\n",
    "# Create empty lists for storing temperature, humidity, cloudiness and wind speed\n",
    "latitude = []\n",
    "longitude = []\n",
    "temperature = []\n",
    "humidity = []\n",
    "cloudiness = []\n",
    "wind_speed = []\n",
    "dates = []\n",
    "\n",
    "for x in range(len(cities)):\n",
    "    response = requests.get(f\"{query_url}{cities[x]},{country_codes[x].upper()}\").json()\n",
    "    \n",
    "    # Some of the cities we generate don't have data in openweathermap, so set their values to numpy's NaN\n",
    "    try:\n",
    "        temperature.append(response['main']['temp_max'])\n",
    "        latitude.append(response['coord']['lat'])\n",
    "        longitude.append(response['coord']['lon'])\n",
    "        humidity.append(response['main']['humidity'])\n",
    "        wind_speed.append(response['wind']['speed'])\n",
    "        dates.append(response['dt'])\n",
    "        cloudiness.append(response['clouds']['all'])\n",
    "    except KeyError:\n",
    "        temperature.append(np.nan)\n",
    "        latitude.append(np.nan)\n",
    "        longitude.append(np.nan)\n",
    "        humidity.append(np.nan)\n",
    "        wind_speed.append(np.nan)\n",
    "        dates.append(np.nan)\n",
    "        cloudiness.append(np.nan)\n",
    "    \n",
    "    \n",
    "    # Print each city name in a specific   \n",
    "    print(f\"Processing record {x + 1} of Set 1 | {cities[x]}\") \n",
    "    \n",
    "print(\"--------------------------------------------\")\n",
    "print(\"Data Processing Complete\")\n",
    "print(\"--------------------------------------------\")        "
   ]
  },
  {
   "cell_type": "markdown",
   "metadata": {},
   "source": [
    "### Convert Raw Data to DataFrame\n",
    "* Export the city data into a .csv.\n",
    "* Display the DataFrame"
   ]
  },
  {
   "cell_type": "code",
   "execution_count": 4,
   "metadata": {},
   "outputs": [],
   "source": [
    "#Generate and Display the DataFrame\n",
    "weather_df = pd.DataFrame({\"City\": cities,\n",
    "                           \"Latitude\": latitude,\n",
    "                           \"Longitude\": longitude,\n",
    "                           \"Max Temp\": temperature,\n",
    "                           \"Humidity\": humidity,\n",
    "                           \"Cloudiness\": cloudiness,\n",
    "                           \"Wind Speed\": wind_speed,\n",
    "                           \"Country\": country_codes,\n",
    "                           \"Date\": dates\n",
    "                             })"
   ]
  },
  {
   "cell_type": "code",
   "execution_count": 5,
   "metadata": {},
   "outputs": [],
   "source": [
    "# Export the city data into a .csv\n",
    "weather_df.to_csv(\"Weather_Data.csv\")"
   ]
  },
  {
   "cell_type": "code",
   "execution_count": 6,
   "metadata": {},
   "outputs": [
    {
     "data": {
      "text/html": [
       "<div>\n",
       "<style scoped>\n",
       "    .dataframe tbody tr th:only-of-type {\n",
       "        vertical-align: middle;\n",
       "    }\n",
       "\n",
       "    .dataframe tbody tr th {\n",
       "        vertical-align: top;\n",
       "    }\n",
       "\n",
       "    .dataframe thead th {\n",
       "        text-align: right;\n",
       "    }\n",
       "</style>\n",
       "<table border=\"1\" class=\"dataframe\">\n",
       "  <thead>\n",
       "    <tr style=\"text-align: right;\">\n",
       "      <th></th>\n",
       "      <th>Latitude</th>\n",
       "      <th>Longitude</th>\n",
       "      <th>Max Temp</th>\n",
       "      <th>Humidity</th>\n",
       "      <th>Cloudiness</th>\n",
       "      <th>Wind Speed</th>\n",
       "      <th>Date</th>\n",
       "    </tr>\n",
       "  </thead>\n",
       "  <tbody>\n",
       "    <tr>\n",
       "      <th>count</th>\n",
       "      <td>495.000000</td>\n",
       "      <td>495.000000</td>\n",
       "      <td>495.000000</td>\n",
       "      <td>495.000000</td>\n",
       "      <td>495.000000</td>\n",
       "      <td>495.000000</td>\n",
       "      <td>4.950000e+02</td>\n",
       "    </tr>\n",
       "    <tr>\n",
       "      <th>mean</th>\n",
       "      <td>19.153962</td>\n",
       "      <td>19.019998</td>\n",
       "      <td>62.673414</td>\n",
       "      <td>67.236364</td>\n",
       "      <td>55.848485</td>\n",
       "      <td>7.966384</td>\n",
       "      <td>1.619619e+09</td>\n",
       "    </tr>\n",
       "    <tr>\n",
       "      <th>std</th>\n",
       "      <td>34.424845</td>\n",
       "      <td>93.249530</td>\n",
       "      <td>22.385514</td>\n",
       "      <td>23.342258</td>\n",
       "      <td>37.602859</td>\n",
       "      <td>4.901914</td>\n",
       "      <td>1.169188e+02</td>\n",
       "    </tr>\n",
       "    <tr>\n",
       "      <th>min</th>\n",
       "      <td>-54.800000</td>\n",
       "      <td>-175.200000</td>\n",
       "      <td>2.160000</td>\n",
       "      <td>1.000000</td>\n",
       "      <td>0.000000</td>\n",
       "      <td>0.180000</td>\n",
       "      <td>1.619619e+09</td>\n",
       "    </tr>\n",
       "    <tr>\n",
       "      <th>25%</th>\n",
       "      <td>-8.959450</td>\n",
       "      <td>-60.215050</td>\n",
       "      <td>46.990000</td>\n",
       "      <td>54.500000</td>\n",
       "      <td>20.000000</td>\n",
       "      <td>4.450000</td>\n",
       "      <td>1.619619e+09</td>\n",
       "    </tr>\n",
       "    <tr>\n",
       "      <th>50%</th>\n",
       "      <td>20.894700</td>\n",
       "      <td>23.371600</td>\n",
       "      <td>66.870000</td>\n",
       "      <td>72.000000</td>\n",
       "      <td>73.000000</td>\n",
       "      <td>6.910000</td>\n",
       "      <td>1.619619e+09</td>\n",
       "    </tr>\n",
       "    <tr>\n",
       "      <th>75%</th>\n",
       "      <td>50.158400</td>\n",
       "      <td>100.019650</td>\n",
       "      <td>78.900000</td>\n",
       "      <td>85.500000</td>\n",
       "      <td>92.000000</td>\n",
       "      <td>10.830000</td>\n",
       "      <td>1.619619e+09</td>\n",
       "    </tr>\n",
       "    <tr>\n",
       "      <th>max</th>\n",
       "      <td>78.218600</td>\n",
       "      <td>179.316700</td>\n",
       "      <td>110.750000</td>\n",
       "      <td>100.000000</td>\n",
       "      <td>100.000000</td>\n",
       "      <td>27.630000</td>\n",
       "      <td>1.619619e+09</td>\n",
       "    </tr>\n",
       "  </tbody>\n",
       "</table>\n",
       "</div>"
      ],
      "text/plain": [
       "         Latitude   Longitude    Max Temp    Humidity  Cloudiness  Wind Speed  \\\n",
       "count  495.000000  495.000000  495.000000  495.000000  495.000000  495.000000   \n",
       "mean    19.153962   19.019998   62.673414   67.236364   55.848485    7.966384   \n",
       "std     34.424845   93.249530   22.385514   23.342258   37.602859    4.901914   \n",
       "min    -54.800000 -175.200000    2.160000    1.000000    0.000000    0.180000   \n",
       "25%     -8.959450  -60.215050   46.990000   54.500000   20.000000    4.450000   \n",
       "50%     20.894700   23.371600   66.870000   72.000000   73.000000    6.910000   \n",
       "75%     50.158400  100.019650   78.900000   85.500000   92.000000   10.830000   \n",
       "max     78.218600  179.316700  110.750000  100.000000  100.000000   27.630000   \n",
       "\n",
       "               Date  \n",
       "count  4.950000e+02  \n",
       "mean   1.619619e+09  \n",
       "std    1.169188e+02  \n",
       "min    1.619619e+09  \n",
       "25%    1.619619e+09  \n",
       "50%    1.619619e+09  \n",
       "75%    1.619619e+09  \n",
       "max    1.619619e+09  "
      ]
     },
     "execution_count": 6,
     "metadata": {},
     "output_type": "execute_result"
    }
   ],
   "source": [
    "#Generate Descriptive Stats\n",
    "weather_df.describe()"
   ]
  },
  {
   "cell_type": "markdown",
   "metadata": {},
   "source": [
    "## Inspect the data and remove the cities where the humidity > 100%.\n",
    "----\n",
    "Skip this step if there are no cities that have humidity > 100%. "
   ]
  },
  {
   "cell_type": "markdown",
   "metadata": {},
   "source": [
    "## Plotting the Data\n",
    "* Use proper labeling of the plots using plot titles (including date of analysis) and axes labels.\n",
    "* Save the plotted figures as .pngs."
   ]
  },
  {
   "cell_type": "markdown",
   "metadata": {},
   "source": [
    "## Latitude vs. Temperature Plot"
   ]
  },
  {
   "cell_type": "code",
   "execution_count": 7,
   "metadata": {
    "scrolled": true
   },
   "outputs": [
    {
     "data": {
      "image/png": "[encoded data removed]",
      "text/plain": [
       "<Figure size 432x288 with 1 Axes>"
      ]
     },
     "metadata": {
      "needs_background": "light"
     },
     "output_type": "display_data"
    }
   ],
   "source": [
    "# Generate a scatter plot of Latitude vs. Temperature Plot\n",
    "\n",
    "x_values = weather_df['Latitude']\n",
    "y_values = weather_df['Max Temp']\n",
    "plt.scatter(x_values,y_values)\n",
    "plt.grid(True)\n",
    "plt.xlabel('Latitude')\n",
    "plt.ylabel('Max Temperature(F)')\n",
    "plt.title('City Latitute vs. Max Temperature')\n",
    "plt.savefig('Lat_Temp_plot.png')\n",
    "plt.show()"
   ]
  },
  {
   "cell_type": "markdown",
   "metadata": {},
   "source": [
    "## Latitude vs. Humidity Plot"
   ]
  },
  {
   "cell_type": "code",
   "execution_count": 8,
   "metadata": {},
   "outputs": [
    {
     "data": {
      "image/png": "[encoded data removed]",
      "text/plain": [
       "<Figure size 432x288 with 1 Axes>"
      ]
     },
     "metadata": {
      "needs_background": "light"
     },
     "output_type": "display_data"
    }
   ],
   "source": [
    "# Generate a scatter plot of Latitude vs. HUmidity(%)\n",
    "\n",
    "x_values = weather_df['Latitude']\n",
    "y_values = weather_df['Humidity']\n",
    "plt.scatter(x_values,y_values)\n",
    "plt.grid(True)\n",
    "plt.xlabel('Latitude')\n",
    "plt.ylabel('Humidity(%)')\n",
    "plt.title('City Latitute vs. Humidity(%)')\n",
    "plt.savefig('Lat_Humidity_plot.png')\n",
    "plt.show()"
   ]
  },
  {
   "cell_type": "markdown",
   "metadata": {},
   "source": [
    "## Latitude vs. Cloudiness Plot"
   ]
  },
  {
   "cell_type": "code",
   "execution_count": 9,
   "metadata": {},
   "outputs": [
    {
     "data": {
      "image/png": "[encoded data removed]",
      "text/plain": [
       "<Figure size 432x288 with 1 Axes>"
      ]
     },
     "metadata": {
      "needs_background": "light"
     },
     "output_type": "display_data"
    }
   ],
   "source": [
    "# Generate a scatter plot of Latitude vs. Cloudiness Plot\n",
    "\n",
    "x_values = weather_df['Latitude']\n",
    "y_values = weather_df['Cloudiness']\n",
    "plt.scatter(x_values,y_values)\n",
    "plt.grid(True)\n",
    "plt.xlabel('Latitude')\n",
    "plt.ylabel('Cloudiness(%)')\n",
    "plt.title('City Latitute vs. Cloudiness')\n",
    "plt.savefig('Lat_Cloudiness_plot.png')\n",
    "plt.show()"
   ]
  },
  {
   "cell_type": "markdown",
   "metadata": {},
   "source": [
    "## Latitude vs. Wind Speed Plot"
   ]
  },
  {
   "cell_type": "code",
   "execution_count": 10,
   "metadata": {},
   "outputs": [
    {
     "data": {
      "image/png": "[encoded data removed]",
      "text/plain": [
       "<Figure size 432x288 with 1 Axes>"
      ]
     },
     "metadata": {
      "needs_background": "light"
     },
     "output_type": "display_data"
    }
   ],
   "source": [
    "# Generate a scatter plot of Latitude vs. Wind Speed Plot\n",
    "\n",
    "x_values = weather_df['Latitude']\n",
    "y_values = weather_df['Wind Speed']\n",
    "plt.scatter(x_values,y_values)\n",
    "plt.grid(True)\n",
    "plt.xlabel('Latitude')\n",
    "plt.ylabel('Wind Speed (mph)')\n",
    "plt.title('City Latitute vs. Wind Speed')\n",
    "plt.savefig('Lat_Windspeed_plot.png')\n",
    "plt.show()"
   ]
  },
  {
   "cell_type": "markdown",
   "metadata": {},
   "source": [
    "## Linear Regression"
   ]
  },
  {
   "cell_type": "code",
   "execution_count": 11,
   "metadata": {},
   "outputs": [],
   "source": [
    "# Northern Hemisphere Dataframe\n",
    "nh_weather_df = weather_df.loc[weather_df['Latitude'] >= 0]\n",
    "\n",
    "# Southern Hemisphere Dataframe\n",
    "\n",
    "sh_weather_df = weather_df.loc[weather_df['Latitude'] < 0]"
   ]
  },
  {
   "cell_type": "markdown",
   "metadata": {},
   "source": [
    "####  Northern Hemisphere - Max Temp vs. Latitude Linear Regression"
   ]
  },
  {
   "cell_type": "code",
   "execution_count": 12,
   "metadata": {},
   "outputs": [
    {
     "name": "stdout",
     "output_type": "stream",
     "text": [
      "The r-value is: -0.88\n"
     ]
    },
    {
     "data": {
      "image/png": "[encoded data removed]",
      "text/plain": [
       "<Figure size 432x288 with 1 Axes>"
      ]
     },
     "metadata": {
      "needs_background": "light"
     },
     "output_type": "display_data"
    }
   ],
   "source": [
    "x_values = nh_weather_df['Latitude']\n",
    "y_values = nh_weather_df['Max Temp']\n",
    "\n",
    "(slope, intercept, rvalue, pvalue, stderr) = linregress(x_values, y_values)\n",
    "\n",
    "regress_values = x_values * slope + intercept\n",
    "\n",
    "line_eq = \"y = \" + str(round(slope,2)) + \"x + \" + str(round(intercept,2))\n",
    "\n",
    "plt.scatter(x_values,y_values)\n",
    "plt.plot(x_values,regress_values,\"r-\")\n",
    "plt.annotate(line_eq,xy=(0.3,0.18),xycoords='figure fraction',horizontalalignment = 'left',fontsize = 12,color = \"red\")\n",
    "plt.xlabel('Latitude')\n",
    "plt.ylabel('Max Temperature(F)')\n",
    "\n",
    "correlation = st.pearsonr(x_values,y_values)\n",
    "print(f\"The r-value is: {round(correlation[0],2)}\")\n",
    "plt.show()\n",
    "\n",
    "# Analysis :\n",
    "# There is a strong negitive correlation between Max Temp and Latitude in the Northern Hemisphere. As the latitudes go \n",
    "# higher, the max temp comes down by the Linear Regression Equation."
   ]
  },
  {
   "cell_type": "markdown",
   "metadata": {},
   "source": [
    "####  Southern Hemisphere - Max Temp vs. Latitude Linear Regression"
   ]
  },
  {
   "cell_type": "code",
   "execution_count": 13,
   "metadata": {},
   "outputs": [
    {
     "name": "stdout",
     "output_type": "stream",
     "text": [
      "The r-value is: 0.83\n"
     ]
    },
    {
     "data": {
      "image/png": "[encoded data removed]",
      "text/plain": [
       "<Figure size 432x288 with 1 Axes>"
      ]
     },
     "metadata": {
      "needs_background": "light"
     },
     "output_type": "display_data"
    }
   ],
   "source": [
    "x_values = sh_weather_df['Latitude']\n",
    "y_values = sh_weather_df['Max Temp']\n",
    "\n",
    "(slope, intercept, rvalue, pvalue, stderr) = linregress(x_values, y_values)\n",
    "\n",
    "regress_values = x_values * slope + intercept\n",
    "\n",
    "line_eq = \"y = \" + str(round(slope,2)) + \"x + \" + str(round(intercept,2))\n",
    "\n",
    "plt.scatter(x_values,y_values)\n",
    "plt.plot(x_values,regress_values,\"r-\")\n",
    "plt.annotate(line_eq,xy=(0.3,0.18),xycoords='figure fraction',horizontalalignment = 'left',fontsize = 12,color = \"red\")\n",
    "plt.xlabel('Latitude')\n",
    "plt.ylabel('Max Temperature(F)')\n",
    "\n",
    "correlation = st.pearsonr(x_values,y_values)\n",
    "print(f\"The r-value is: {round(correlation[0],2)}\")\n",
    "plt.show()\n",
    "\n",
    "# Analysis :\n",
    "# There is a strong positive correlation between Max Temp and Latitude in the Southern Hemisphere. As the latitudes go \n",
    "# higher, the max temp goes up by the Linear Regression Equation."
   ]
  },
  {
   "cell_type": "markdown",
   "metadata": {},
   "source": [
    "####  Northern Hemisphere - Humidity (%) vs. Latitude Linear Regression"
   ]
  },
  {
   "cell_type": "code",
   "execution_count": 14,
   "metadata": {},
   "outputs": [
    {
     "name": "stdout",
     "output_type": "stream",
     "text": [
      "The r-value is: 0.29\n"
     ]
    },
    {
     "data": {
      "image/png": "[encoded data removed]",
      "text/plain": [
       "<Figure size 432x288 with 1 Axes>"
      ]
     },
     "metadata": {
      "needs_background": "light"
     },
     "output_type": "display_data"
    }
   ],
   "source": [
    "x_values = nh_weather_df['Latitude']\n",
    "y_values = nh_weather_df['Humidity']\n",
    "\n",
    "(slope, intercept, rvalue, pvalue, stderr) = linregress(x_values, y_values)\n",
    "\n",
    "regress_values = x_values * slope + intercept\n",
    "\n",
    "line_eq = \"y = \" + str(round(slope,2)) + \"x + \" + str(round(intercept,2))\n",
    "\n",
    "plt.scatter(x_values,y_values)\n",
    "plt.plot(x_values,regress_values,\"r-\")\n",
    "plt.annotate(line_eq,xy=(0.65,0.18),xycoords='figure fraction',horizontalalignment = 'left',fontsize = 12,color = \"red\")\n",
    "plt.xlabel('Latitude')\n",
    "plt.ylabel('Humidity(%)')\n",
    "\n",
    "correlation = st.pearsonr(x_values,y_values)\n",
    "print(f\"The r-value is: {round(correlation[0],2)}\")\n",
    "plt.show()\n",
    "\n",
    "# Analysis :\n",
    "# There is a small positive correlation between Humidity (%) and Latitude in the Northern Hemisphere. As the latitudes go \n",
    "# higher, the Humidity (%) goes up by the Linear Regression Equation."
   ]
  },
  {
   "cell_type": "markdown",
   "metadata": {},
   "source": [
    "####  Southern Hemisphere - Humidity (%) vs. Latitude Linear Regression"
   ]
  },
  {
   "cell_type": "code",
   "execution_count": 15,
   "metadata": {},
   "outputs": [
    {
     "name": "stdout",
     "output_type": "stream",
     "text": [
      "The r-value is: -0.03\n"
     ]
    },
    {
     "data": {
      "image/png": "[encoded data removed]",
      "text/plain": [
       "<Figure size 432x288 with 1 Axes>"
      ]
     },
     "metadata": {
      "needs_background": "light"
     },
     "output_type": "display_data"
    }
   ],
   "source": [
    "x_values = sh_weather_df['Latitude']\n",
    "y_values = sh_weather_df['Humidity']\n",
    "\n",
    "(slope, intercept, rvalue, pvalue, stderr) = linregress(x_values, y_values)\n",
    "\n",
    "regress_values = x_values * slope + intercept\n",
    "\n",
    "line_eq = \"y = \" + str(round(slope,2)) + \"x + \" + str(round(intercept,2))\n",
    "\n",
    "plt.scatter(x_values,y_values)\n",
    "plt.plot(x_values,regress_values,\"r-\")\n",
    "plt.annotate(line_eq,xy=(0.2,0.18),xycoords='figure fraction',horizontalalignment = 'left',fontsize = 12,color = \"red\")\n",
    "plt.xlabel('Latitude')\n",
    "plt.ylabel('Humidity(%)')\n",
    "\n",
    "correlation = st.pearsonr(x_values,y_values)\n",
    "print(f\"The r-value is: {round(correlation[0],2)}\")\n",
    "plt.show()\n",
    "\n",
    "# Analysis :\n",
    "# There is a small negitive correlation between Humidity (%) and Latitude in the Southern Hemisphere. As the latitudes go \n",
    "# higher, the Humidity (%) goes down by the Linear Regression Equation."
   ]
  },
  {
   "cell_type": "markdown",
   "metadata": {},
   "source": [
    "####  Northern Hemisphere - Cloudiness (%) vs. Latitude Linear Regression"
   ]
  },
  {
   "cell_type": "code",
   "execution_count": 16,
   "metadata": {},
   "outputs": [
    {
     "name": "stdout",
     "output_type": "stream",
     "text": [
      "The r-value is: 0.13\n"
     ]
    },
    {
     "data": {
      "image/png": "[encoded data removed]",
      "text/plain": [
       "<Figure size 432x288 with 1 Axes>"
      ]
     },
     "metadata": {
      "needs_background": "light"
     },
     "output_type": "display_data"
    }
   ],
   "source": [
    "x_values = nh_weather_df['Latitude']\n",
    "y_values = nh_weather_df['Cloudiness']\n",
    "\n",
    "(slope, intercept, rvalue, pvalue, stderr) = linregress(x_values, y_values)\n",
    "\n",
    "regress_values = x_values * slope + intercept\n",
    "\n",
    "line_eq = \"y = \" + str(round(slope,2)) + \"x + \" + str(round(intercept,2))\n",
    "\n",
    "plt.scatter(x_values,y_values)\n",
    "plt.plot(x_values,regress_values,\"r-\")\n",
    "plt.annotate(line_eq,xy=(0.3,0.38),xycoords='figure fraction',horizontalalignment = 'left',fontsize = 12,color = \"red\")\n",
    "plt.xlabel('Latitude')\n",
    "plt.ylabel('Cloudiness(%)')\n",
    "\n",
    "correlation = st.pearsonr(x_values,y_values)\n",
    "print(f\"The r-value is: {round(correlation[0],2)}\")\n",
    "plt.show()\n",
    "\n",
    "# Analysis :\n",
    "# There is a small positive correlation between Cloudiness (%)  and Latitude in the Northern Hemisphere. As the latitudes go \n",
    "# higher, the Cloudiness (%) goes up by the Linear Regression Equation."
   ]
  },
  {
   "cell_type": "markdown",
   "metadata": {},
   "source": [
    "####  Southern Hemisphere - Cloudiness (%) vs. Latitude Linear Regression"
   ]
  },
  {
   "cell_type": "code",
   "execution_count": 17,
   "metadata": {},
   "outputs": [
    {
     "name": "stdout",
     "output_type": "stream",
     "text": [
      "The r-value is: 0.12\n"
     ]
    },
    {
     "data": {
      "image/png": "[encoded data removed]",
      "text/plain": [
       "<Figure size 432x288 with 1 Axes>"
      ]
     },
     "metadata": {
      "needs_background": "light"
     },
     "output_type": "display_data"
    }
   ],
   "source": [
    "x_values = sh_weather_df['Latitude']\n",
    "y_values = sh_weather_df['Cloudiness']\n",
    "\n",
    "(slope, intercept, rvalue, pvalue, stderr) = linregress(x_values, y_values)\n",
    "\n",
    "regress_values = x_values * slope + intercept\n",
    "\n",
    "line_eq = \"y = \" + str(round(slope,2)) + \"x + \" + str(round(intercept,2))\n",
    "\n",
    "plt.scatter(x_values,y_values)\n",
    "plt.plot(x_values,regress_values,\"r-\")\n",
    "plt.annotate(line_eq,xy=(0.3,0.38),xycoords='figure fraction',horizontalalignment = 'left',fontsize = 12,color = \"red\")\n",
    "plt.xlabel('Latitude')\n",
    "plt.ylabel('Cloudiness(%)')\n",
    "\n",
    "correlation = st.pearsonr(x_values,y_values)\n",
    "print(f\"The r-value is: {round(correlation[0],2)}\")\n",
    "plt.show()\n",
    "\n",
    "# Analysis :\n",
    "# There is a small positive correlation between Cloudiness (%)  and Latitude in the Southern Hemisphere. As the latitudes go \n",
    "# higher, the Cloudiness (%) goes up by the Linear Regression Equation. The correlation is similar in the Northern Hemisphere"
   ]
  },
  {
   "cell_type": "markdown",
   "metadata": {},
   "source": [
    "####  Northern Hemisphere - Wind Speed (mph) vs. Latitude Linear Regression"
   ]
  },
  {
   "cell_type": "code",
   "execution_count": 18,
   "metadata": {},
   "outputs": [
    {
     "name": "stdout",
     "output_type": "stream",
     "text": [
      "The r-value is: 0.04\n"
     ]
    },
    {
     "data": {
      "image/png": "[encoded data removed]",
      "text/plain": [
       "<Figure size 432x288 with 1 Axes>"
      ]
     },
     "metadata": {
      "needs_background": "light"
     },
     "output_type": "display_data"
    }
   ],
   "source": [
    "x_values = nh_weather_df['Latitude']\n",
    "y_values = nh_weather_df['Wind Speed']\n",
    "\n",
    "(slope, intercept, rvalue, pvalue, stderr) = linregress(x_values, y_values)\n",
    "\n",
    "regress_values = x_values * slope + intercept\n",
    "\n",
    "line_eq = \"y = \" + str(round(slope,2)) + \"x + \" + str(round(intercept,2))\n",
    "\n",
    "plt.scatter(x_values,y_values)\n",
    "plt.plot(x_values,regress_values,\"r-\")\n",
    "plt.annotate(line_eq,xy=(0.3,0.78),xycoords='figure fraction',horizontalalignment = 'left',fontsize = 12,color = \"red\")\n",
    "\n",
    "plt.xlabel('Latitude')\n",
    "plt.ylabel('Wind Speed (mph)')\n",
    "\n",
    "correlation = st.pearsonr(x_values,y_values)\n",
    "print(f\"The r-value is: {round(correlation[0],2)}\")\n",
    "plt.show()\n",
    "\n",
    "\n",
    "# Analysis :\n",
    "# There is a small positive correlation between Wind Speed (mph)  and Latitude in the Northern Hemisphere. As the latitudes go \n",
    "# higher, the Wind Speed (mph) goes up by the Linear Regression Equation. "
   ]
  },
  {
   "cell_type": "markdown",
   "metadata": {},
   "source": [
    "####  Southern Hemisphere - Wind Speed (mph) vs. Latitude Linear Regression"
   ]
  },
  {
   "cell_type": "code",
   "execution_count": 19,
   "metadata": {},
   "outputs": [
    {
     "name": "stdout",
     "output_type": "stream",
     "text": [
      "The r-value is: -0.12\n"
     ]
    },
    {
     "data": {
      "image/png": "[encoded data removed]",
      "text/plain": [
       "<Figure size 432x288 with 1 Axes>"
      ]
     },
     "metadata": {
      "needs_background": "light"
     },
     "output_type": "display_data"
    }
   ],
   "source": [
    "x_values = sh_weather_df['Latitude']\n",
    "y_values = sh_weather_df['Wind Speed']\n",
    "\n",
    "(slope, intercept, rvalue, pvalue, stderr) = linregress(x_values, y_values)\n",
    "\n",
    "regress_values = x_values * slope + intercept\n",
    "\n",
    "line_eq = \"y = \" + str(round(slope,2)) + \"x + \" + str(round(intercept,2))\n",
    "\n",
    "plt.scatter(x_values,y_values)\n",
    "plt.plot(x_values,regress_values,\"r-\")\n",
    "plt.annotate(line_eq,xy=(0.3,0.88),xycoords='figure fraction',horizontalalignment = 'left',fontsize = 12,color = \"red\")\n",
    "\n",
    "plt.xlabel('Latitude')\n",
    "plt.ylabel('Wind Speed (mph)')\n",
    "\n",
    "correlation = st.pearsonr(x_values,y_values)\n",
    "print(f\"The r-value is: {round(correlation[0],2)}\")\n",
    "plt.show()\n",
    "\n",
    "\n",
    "# Analysis :\n",
    "# There is a very small positive to no correlation between Wind Speed (mph) and Latitude in the Southern Hemisphere. As the latitudes go \n",
    "# higher, the Wind Speed (mph) goes up by the Linear Regression Equation."
   ]
  },
  {
   "cell_type": "code",
   "execution_count": null,
   "metadata": {},
   "outputs": [],
   "source": []
  }
 ],
 "metadata": {
  "anaconda-cloud": {},
  "kernel_info": {
   "name": "python3"
  },
  "kernelspec": {
   "display_name": "Python 3",
   "language": "python",
   "name": "python3"
  },
  "language_info": {
   "codemirror_mode": {
    "name": "ipython",
    "version": 3
   },
   "file_extension": ".py",
   "mimetype": "text/x-python",
   "name": "python",
   "nbconvert_exporter": "python",
   "pygments_lexer": "ipython3",
   "version": "3.8.5"
  },
  "latex_envs": {
   "LaTeX_envs_menu_present": true,
   "autoclose": false,
   "autocomplete": true,
   "bibliofile": "biblio.bib",
   "cite_by": "apalike",
   "current_citInitial": 1,
   "eqLabelWithNumbers": true,
   "eqNumInitial": 1,
   "hotkeys": {
    "equation": "Ctrl-E",
    "itemize": "Ctrl-I"
   },
   "labels_anchors": false,
   "latex_user_defs": false,
   "report_style_numbering": false,
   "user_envs_cfg": false
  },
  "nteract": {
   "version": "0.12.3"
  }
 },
 "nbformat": 4,
 "nbformat_minor": 2
}
